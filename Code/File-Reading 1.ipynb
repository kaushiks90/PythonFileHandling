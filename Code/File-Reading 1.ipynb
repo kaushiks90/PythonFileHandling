{
 "cells": [
  {
   "cell_type": "code",
   "execution_count": 4,
   "metadata": {
    "collapsed": false
   },
   "outputs": [],
   "source": [
    "f=open('airline-safety.csv',mode='rU')"
   ]
  },
  {
   "cell_type": "code",
   "execution_count": 5,
   "metadata": {
    "collapsed": true
   },
   "outputs": [],
   "source": [
    "file_string=f.read()"
   ]
  },
  {
   "cell_type": "code",
   "execution_count": 9,
   "metadata": {
    "collapsed": false
   },
   "outputs": [],
   "source": [
    "f.close()"
   ]
  },
  {
   "cell_type": "code",
   "execution_count": 10,
   "metadata": {
    "collapsed": true
   },
   "outputs": [],
   "source": [
    "# use a context manager to automatically close your file"
   ]
  },
  {
   "cell_type": "code",
   "execution_count": 11,
   "metadata": {
    "collapsed": true
   },
   "outputs": [],
   "source": [
    "with open('airline-safety.csv',mode='rU')as f:\n",
    "    file_string=f.read()"
   ]
  },
  {
   "cell_type": "code",
   "execution_count": 12,
   "metadata": {
    "collapsed": true
   },
   "outputs": [],
   "source": [
    "# read the file into a list (each list element is one row)"
   ]
  },
  {
   "cell_type": "code",
   "execution_count": 15,
   "metadata": {
    "collapsed": false
   },
   "outputs": [
    {
     "data": {
      "text/plain": [
       "['airline,avail_seat_km_per_week,incidents_85_99,fatal_accidents_85_99,fatalities_85_99,incidents_00_14,fatal_accidents_00_14,fatalities_00_14\\n',\n",
       " 'Aer Lingus,320906734,2,0,0,0,0,0\\n',\n",
       " 'Aeroflot*,1197672318,76,14,128,6,1,88\\n']"
      ]
     },
     "execution_count": 15,
     "metadata": {},
     "output_type": "execute_result"
    }
   ],
   "source": [
    "file_list=[]\n",
    "with open('airline-safety.csv',mode='rU')as f:\n",
    "    \n",
    "    for row in f:\n",
    "        file_list.append(row)\n",
    "file_list[0:3]\n",
    "    "
   ]
  },
  {
   "cell_type": "code",
   "execution_count": 17,
   "metadata": {
    "collapsed": false
   },
   "outputs": [
    {
     "data": {
      "text/plain": [
       "['airline,avail_seat_km_per_week,incidents_85_99,fatal_accidents_85_99,fatalities_85_99,incidents_00_14,fatal_accidents_00_14,fatalities_00_14\\n',\n",
       " 'Aer Lingus,320906734,2,0,0,0,0,0\\n',\n",
       " 'Aeroflot*,1197672318,76,14,128,6,1,88\\n']"
      ]
     },
     "execution_count": 17,
     "metadata": {},
     "output_type": "execute_result"
    }
   ],
   "source": [
    "#using list Compression\n",
    "file_list=[]\n",
    "with open('airline-safety.csv',mode='rU')as f:\n",
    "    file_list=[row for row in f]\n",
    "\n",
    "file_list[0:3]\n",
    "    "
   ]
  },
  {
   "cell_type": "code",
   "execution_count": 22,
   "metadata": {
    "collapsed": false
   },
   "outputs": [
    {
     "data": {
      "text/plain": [
       "[['airline',\n",
       "  'avail_seat_km_per_week',\n",
       "  'incidents_85_99',\n",
       "  'fatal_accidents_85_99',\n",
       "  'fatalities_85_99',\n",
       "  'incidents_00_14',\n",
       "  'fatal_accidents_00_14',\n",
       "  'fatalities_00_14\\n'],\n",
       " ['Aer Lingus', '320906734', '2', '0', '0', '0', '0', '0\\n'],\n",
       " ['Aeroflot*', '1197672318', '76', '14', '128', '6', '1', '88\\n']]"
      ]
     },
     "execution_count": 22,
     "metadata": {},
     "output_type": "execute_result"
    }
   ],
   "source": [
    "#split each string using commas\n",
    "liststr=[]\n",
    "with open('airline-safety.csv',mode='rU') as f:\n",
    "    liststr=[row.split(',') for row in f]\n",
    "    \n",
    "liststr[0:3]\n",
    "    "
   ]
  },
  {
   "cell_type": "code",
   "execution_count": 25,
   "metadata": {
    "collapsed": false
   },
   "outputs": [
    {
     "data": {
      "text/plain": [
       "[['airline',\n",
       "  'avail_seat_km_per_week',\n",
       "  'incidents_85_99',\n",
       "  'fatal_accidents_85_99',\n",
       "  'fatalities_85_99',\n",
       "  'incidents_00_14',\n",
       "  'fatal_accidents_00_14',\n",
       "  'fatalities_00_14'],\n",
       " ['Aer Lingus', '320906734', '2', '0', '0', '0', '0', '0'],\n",
       " ['Aeroflot*', '1197672318', '76', '14', '128', '6', '1', '88']]"
      ]
     },
     "execution_count": 25,
     "metadata": {},
     "output_type": "execute_result"
    }
   ],
   "source": [
    "#using CSV module\n",
    "import csv\n",
    "liststrcsv=[]\n",
    "with open('airline-safety.csv',mode='rU')as f:\n",
    "    liststrcsv=[row for row in csv.reader(f)]\n",
    "    \n",
    "liststrcsv[0:3]\n",
    "    \n",
    "    "
   ]
  },
  {
   "cell_type": "code",
   "execution_count": 27,
   "metadata": {
    "collapsed": false
   },
   "outputs": [
    {
     "data": {
      "text/plain": [
       "['airline',\n",
       " 'avail_seat_km_per_week',\n",
       " 'incidents_85_99',\n",
       " 'fatal_accidents_85_99',\n",
       " 'fatalities_85_99',\n",
       " 'incidents_00_14',\n",
       " 'fatal_accidents_00_14',\n",
       " 'fatalities_00_14']"
      ]
     },
     "execution_count": 27,
     "metadata": {},
     "output_type": "execute_result"
    }
   ],
   "source": [
    "header=liststrcsv[0]\n",
    "header"
   ]
  },
  {
   "cell_type": "code",
   "execution_count": 36,
   "metadata": {
    "collapsed": false
   },
   "outputs": [
    {
     "data": {
      "text/plain": [
       "['Aer Lingus', '320906734', '2', '0', '0', '0', '0', '0']"
      ]
     },
     "execution_count": 36,
     "metadata": {},
     "output_type": "execute_result"
    }
   ],
   "source": [
    "data=liststrcsv[1]\n",
    "data[:]"
   ]
  },
  {
   "cell_type": "code",
   "execution_count": 37,
   "metadata": {
    "collapsed": true
   },
   "outputs": [],
   "source": [
    "\n",
    "# 1. Create a list containing the average number of incidents per year for each airline.\n",
    "# Example for Aer Lingus: (2 + 0)/30 = 0.07\n",
    "# Expected output: [0.07, 2.73, 0.23, ...]"
   ]
  },
  {
   "cell_type": "code",
   "execution_count": 77,
   "metadata": {
    "collapsed": false,
    "scrolled": true
   },
   "outputs": [
    {
     "data": {
      "text/plain": [
       "[0.07, 2.73, 0.23, 0.27, 0.13, 0.67, 0.2, 0.27, 0.33, 0.37]"
      ]
     },
     "execution_count": 77,
     "metadata": {},
     "output_type": "execute_result"
    }
   ],
   "source": [
    "liststrcsv=[]\n",
    "\n",
    "with open('airline-safety.csv',mode='rU')as f:\n",
    "    liststrcsv=[row for row in csv.reader(f)]\n",
    "    \n",
    "    \n",
    "    \n",
    "liststrcsv=liststrcsv[1:]\n",
    "liststrcsvres=[round((int(row[2])+int(row[5]))/float(30),2) for row in liststrcsv]\n",
    "liststrcsvres[0:10]\n"
   ]
  },
  {
   "cell_type": "code",
   "execution_count": 78,
   "metadata": {
    "collapsed": true
   },
   "outputs": [],
   "source": [
    "# 2. Create a list of airline names (without the star).\n",
    "# Expected output: ['Aer Lingus', 'Aeroflot', 'Aerolineas Argentinas', ...]\n"
   ]
  },
  {
   "cell_type": "code",
   "execution_count": 102,
   "metadata": {
    "collapsed": false
   },
   "outputs": [
    {
     "name": "stdout",
     "output_type": "stream",
     "text": [
      "Aeroflot*\n",
      "Aeromexico*\n",
      "Air India*\n",
      "Air New Zealand*\n",
      "Alaska Airlines*\n",
      "American*\n",
      "British Airways*\n",
      "Cathay Pacific*\n",
      "Delta / Northwest*\n",
      "KLM*\n",
      "Lufthansa*\n",
      "Qantas*\n",
      "SAS*\n",
      "SWISS*\n",
      "United / Continental*\n",
      "US Airways / America West*\n"
     ]
    }
   ],
   "source": [
    "listunstarredstrcsv=[]\n",
    "\n",
    "with open('airline-safety.csv',mode='rU')as f:\n",
    "    listunstarredstrcsv=[row[0] for row in csv.reader(f)]\n",
    "listunstarredstrcsv=listunstarredstrcsv[1:]\n",
    "listunstarredstrcsv\n",
    "# newList=[x[-1] for x in listunstarredstrcsv]\n",
    "# newList\n",
    "for x in listunstarredstrcsv:\n",
    "     if x[-1]==\"*\":\n",
    "            print x\n"
   ]
  },
  {
   "cell_type": "code",
   "execution_count": 104,
   "metadata": {
    "collapsed": true
   },
   "outputs": [],
   "source": [
    "# Create a list (of the same length) that contains 1 if there's a star and 0 if not.\n",
    "# Expected output: [0, 1, 0, ...]"
   ]
  },
  {
   "cell_type": "code",
   "execution_count": 108,
   "metadata": {
    "collapsed": false
   },
   "outputs": [
    {
     "data": {
      "text/plain": [
       "[0, 1, 0, 1, 0, 0, 1, 1]"
      ]
     },
     "execution_count": 108,
     "metadata": {},
     "output_type": "execute_result"
    }
   ],
   "source": [
    "listunstarredstrcsv=[]\n",
    "listnum=[]\n",
    "with open('airline-safety.csv',mode='rU')as f:\n",
    "    listunstarredstrcsv=[row[0] for row in csv.reader(f)]\n",
    "listunstarredstrcsv=listunstarredstrcsv[1:]\n",
    "listunstarredstrcsv\n",
    "# newList=[x[-1] for x in listunstarredstrcsv]\n",
    "# newList\n",
    "for x in listunstarredstrcsv:\n",
    "     if x[-1]==\"*\":\n",
    "            listnum.append(1)\n",
    "     else:\n",
    "            listnum.append(0)\n",
    "listnum[0:8]\n"
   ]
  },
  {
   "cell_type": "code",
   "execution_count": 111,
   "metadata": {
    "collapsed": true
   },
   "outputs": [],
   "source": [
    "# . BONUS: Create a dictionary in which the key is the airline name (without the star)\n",
    "#    and the value is the average number of incidents.\n",
    "# Expected output: {'Aer Lingus': 0.07, 'Aeroflot': 2.73, ...}"
   ]
  },
  {
   "cell_type": "code",
   "execution_count": 162,
   "metadata": {
    "collapsed": false
   },
   "outputs": [
    {
     "data": {
      "text/plain": [
       "{'Aeroflot ': '6',\n",
       " 'Aeromexico ': '5',\n",
       " 'AirIndia ': '4',\n",
       " 'AirNewZealand ': '5',\n",
       " 'AlaskaAirlines ': '5',\n",
       " 'American ': '17',\n",
       " 'BritishAirways ': '6',\n",
       " 'CathayPacific ': '2',\n",
       " 'Delta/Northwest ': '24',\n",
       " 'KLM ': '1',\n",
       " 'Lufthansa ': '3',\n",
       " 'Qantas ': '5',\n",
       " 'SAS ': '6',\n",
       " 'SWISS ': '3',\n",
       " 'USAirways/AmericaWest ': '11',\n",
       " 'United/Continental ': '14'}"
      ]
     },
     "execution_count": 162,
     "metadata": {},
     "output_type": "execute_result"
    }
   ],
   "source": [
    "listunstarredstrcsv=[]\n",
    "listnum=[]\n",
    "dictb={}\n",
    "with open('airline-safety.csv',mode='rU')as f:\n",
    "    listunstarredstrcsv=[row for row in csv.reader(f)]\n",
    "# newlist=listunstarredstrcsv[1:]\n",
    "# print listunstarredstrcsv\n",
    "\n",
    "for x in listunstarredstrcsv:\n",
    "    lst= x[0]\n",
    "    lst=lst.replace(' ','')\n",
    "    if lst[-1]==\"*\":\n",
    "        dictb.update({lst.replace('*',' '):x[5]})\n",
    "        \n",
    "dictb\n",
    "        \n",
    "\n",
    "        \n"
   ]
  }
 ],
 "metadata": {
  "kernelspec": {
   "display_name": "Python 2",
   "language": "python",
   "name": "python2"
  },
  "language_info": {
   "codemirror_mode": {
    "name": "ipython",
    "version": 2
   },
   "file_extension": ".py",
   "mimetype": "text/x-python",
   "name": "python",
   "nbconvert_exporter": "python",
   "pygments_lexer": "ipython2",
   "version": "2.7.13"
  }
 },
 "nbformat": 4,
 "nbformat_minor": 2
}
